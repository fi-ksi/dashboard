{
 "cells": [
  {
   "cell_type": "markdown",
   "metadata": {},
   "source": [
    "# KSI monitoring: dlouhodobé statistiky napříč ročníky\n",
    "Tento soubor obsahuje dlouhodobé metriky týkající se počtu řešitelů/úspěšných řešitelů atd. napříč ročníky."
   ]
  },
  {
   "cell_type": "code",
   "execution_count": null,
   "metadata": {},
   "outputs": [],
   "source": [
    "%config InlineBackend.figure_formats = ['svg']\n",
    "%matplotlib inline\n",
    "%load_ext autoreload\n",
    "%autoreload 2"
   ]
  },
  {
   "cell_type": "code",
   "execution_count": null,
   "metadata": {},
   "outputs": [],
   "source": [
    "import sys\n",
    "sys.path.append('..')\n",
    "\n",
    "import matplotlib.pyplot as plt\n",
    "from collections import OrderedDict, namedtuple\n",
    "from sqlalchemy import func, distinct, text, and_\n",
    "import pandas as pd\n",
    "import seaborn as sns\n",
    "\n",
    "import util\n",
    "from util.year import year\n",
    "from db import session\n",
    "import model\n",
    "from datetime import datetime\n",
    "\n",
    "plt.rcParams['figure.figsize'] = [6, 5]\n",
    "print(datetime.now())"
   ]
  },
  {
   "cell_type": "markdown",
   "metadata": {},
   "source": [
    "## Počty řešitelů napříč ročníky"
   ]
  },
  {
   "cell_type": "code",
   "execution_count": null,
   "metadata": {
    "scrolled": false
   },
   "outputs": [],
   "source": [
    "per_module = util.task.points_per_module_all_years().subquery()\n",
    "\n",
    "per_user = session.query(\n",
    "    model.Year,\n",
    "    model.User,\n",
    "    func.sum(per_module.c.points).label(\"total_score\"),\n",
    ").\\\n",
    "    join(per_module, model.Year.id == per_module.c.year_id).\\\n",
    "    join(model.User, model.User.id == per_module.c.user_id).\\\n",
    "    filter(model.User.role == 'participant').\\\n",
    "    group_by('year_id', model.User).all()\n",
    "\n",
    "df = pd.DataFrame(per_user).groupby('Year')\n",
    "fdf = pd.DataFrame(per_user)\n",
    "fdf = fdf[fdf['total_score'] > 0].groupby('Year')\n",
    "\n",
    "per_year = pd.DataFrame({\n",
    "    'Solved Count': df.total_score.count(),\n",
    "    'More Than 0 Points Count': fdf.total_score.count(),\n",
    "})\n",
    "per_year.plot.bar();"
   ]
  },
  {
   "cell_type": "markdown",
   "metadata": {},
   "source": [
    "## Histogram získaných bodů napříč ročníky"
   ]
  },
  {
   "cell_type": "code",
   "execution_count": null,
   "metadata": {},
   "outputs": [],
   "source": [
    "max_points_per_year = util.task.max_points_per_year(bonus=False)\n",
    "\n",
    "Score = namedtuple('Score', ['Year', 'User', 'RelativePoints'])\n",
    "relative_per_user = [\n",
    "    Score(year, user, score / max_points_per_year[year.id][0])\n",
    "    for year, user, score in per_user\n",
    "]\n",
    "\n",
    "fdf = pd.DataFrame(relative_per_user)\n",
    "fdf = fdf[fdf['RelativePoints'] > 0] # filter 0 points\n",
    "\n",
    "relative_per_year = pd.DataFrame(OrderedDict((\n",
    "    ('[80% – 100%)', fdf[fdf['RelativePoints'] >= 0.8].groupby('Year').RelativePoints.count()),\n",
    "    ('[60% – 80%)', fdf[(fdf['RelativePoints'] >= 0.6) & (fdf['RelativePoints'] < 0.8)].groupby('Year').RelativePoints.count()),\n",
    "    ('[40% – 60%)', fdf[(fdf['RelativePoints'] >= 0.4) & (fdf['RelativePoints'] < 0.6)].groupby('Year').RelativePoints.count()),\n",
    "    ('[20% – 40%)', fdf[(fdf['RelativePoints'] >= 0.2) & (fdf['RelativePoints'] < 0.4)].groupby('Year').RelativePoints.count()),\n",
    "    ('[10% – 20%)', fdf[(fdf['RelativePoints'] >= 0.1) & (fdf['RelativePoints'] < 0.2)].groupby('Year').RelativePoints.count()),\n",
    "    ('(0% – 10%)', fdf[(fdf['RelativePoints'] >= 0) & (fdf['RelativePoints'] < 0.1)].groupby('Year').RelativePoints.count()),\n",
    ")))\n",
    "relative_per_year.plot.bar(stacked=True);"
   ]
  },
  {
   "cell_type": "markdown",
   "metadata": {},
   "source": [
    "## Počty úspěšných řešitelů"
   ]
  },
  {
   "cell_type": "code",
   "execution_count": null,
   "metadata": {},
   "outputs": [],
   "source": [
    "successful_participants = pd.DataFrame({\n",
    "    'Successful Participants Count': fdf[fdf['RelativePoints'] >= 0.6].groupby('Year').RelativePoints.count(),\n",
    "})\n",
    "successful_participants.plot.bar(stacked=True);"
   ]
  },
  {
   "cell_type": "markdown",
   "metadata": {},
   "source": [
    "## Velké/malé úlohy\n",
    "Následují data o zastoupení velkých a malých úloh v ročnících."
   ]
  },
  {
   "cell_type": "code",
   "execution_count": null,
   "metadata": {
    "scrolled": false
   },
   "outputs": [],
   "source": [
    "YearRawData = namedtuple('YearData', ['count', 'points'])\n",
    "\n",
    "tasks_per_year = session.query(\n",
    "    model.Year,\n",
    "    func.count(model.Task.id),\n",
    "    func.sum(model.Module.max_points).label('sum_points'),\n",
    ").\\\n",
    "    join(model.Year.tasks).join(model.Task.modules).\\\n",
    "    group_by(model.Year)\n",
    "\n",
    "big_tasks_per_year = tasks_per_year.\\\n",
    "    filter(model.Module.type == model.ModuleType.GENERAL)\n",
    "\n",
    "small_tasks_per_year = tasks_per_year.\\\n",
    "    filter(model.Module.type != model.ModuleType.GENERAL)\n",
    "\n",
    "tasks_per_year_dict = {\n",
    "    year: YearRawData(count, int(points))\n",
    "    for (year, count, points) in tasks_per_year.all()\n",
    "}\n",
    "big_tasks_per_year_dict = {\n",
    "    year: YearRawData(count, int(points))\n",
    "    for (year, count, points) in big_tasks_per_year.all()\n",
    "}\n",
    "small_tasks_per_year_dict = {\n",
    "    year: YearRawData(count, int(points))\n",
    "    for (year, count, points) in small_tasks_per_year.all()\n",
    "}\n",
    "\n",
    "# print(big_tasks_per_year_dict)\n",
    "\n",
    "for year in tasks_per_year_dict.keys():\n",
    "    small_tasks_per_year_dict[year] = small_tasks_per_year_dict.get(year, YearRawData(0, 0))\n",
    "    big_tasks_per_year_dict[year] = big_tasks_per_year_dict.get(year, YearRawData(0, 0))\n",
    "\n",
    "# print(big_tasks_per_year_dict)\n"
   ]
  },
  {
   "cell_type": "code",
   "execution_count": null,
   "metadata": {},
   "outputs": [],
   "source": [
    "YearData = namedtuple('YearData', [\n",
    "    'Year', 'small_tasks_points', 'big_tasks_points'\n",
    "])\n",
    "\n",
    "year_data = [\n",
    "    YearData(\n",
    "        year,\n",
    "        small_tasks_per_year_dict[year].points,\n",
    "        big_tasks_per_year_dict[year].points,\n",
    "    )\n",
    "    for year in tasks_per_year_dict.keys()\n",
    "]\n",
    "year_data.sort(key=lambda yd: yd.Year.id)"
   ]
  },
  {
   "cell_type": "code",
   "execution_count": null,
   "metadata": {},
   "outputs": [],
   "source": [
    "df = pd.DataFrame(year_data, columns=[\n",
    "    'Year',\n",
    "    'Small Tasks Points',\n",
    "    'Big Tasks Points',\n",
    "]).set_index('Year')"
   ]
  },
  {
   "cell_type": "markdown",
   "metadata": {},
   "source": [
    "### Počet bodů za velké/malé úlohy napříč ročníky"
   ]
  },
  {
   "cell_type": "code",
   "execution_count": null,
   "metadata": {},
   "outputs": [],
   "source": [
    "df.plot.bar(stacked=True);"
   ]
  },
  {
   "cell_type": "code",
   "execution_count": null,
   "metadata": {},
   "outputs": [],
   "source": [
    "YearData = namedtuple('YearData', [\n",
    "    'Year', 'tasks_points', 'small_tasks_points', 'big_tasks_points',\n",
    "    'big_tasks_ratio'\n",
    "])\n",
    "\n",
    "year_data = [\n",
    "    YearData(\n",
    "        year,\n",
    "        tasks_per_year_dict[year].points,\n",
    "        small_tasks_per_year_dict[year].points,\n",
    "        big_tasks_per_year_dict[year].points,\n",
    "        big_tasks_per_year_dict[year].points / tasks_per_year_dict[year].points,\n",
    "    )\n",
    "    for year in tasks_per_year_dict.keys()\n",
    "]\n",
    "year_data.sort(key=lambda yd: yd.Year.id)"
   ]
  },
  {
   "cell_type": "code",
   "execution_count": null,
   "metadata": {},
   "outputs": [],
   "source": [
    "df = pd.DataFrame(year_data, columns=[\n",
    "    'Year',\n",
    "    'Total Points',\n",
    "    'Small Tasks Points',\n",
    "    'Big Tasks Points',\n",
    "    'Big Tasks Points Ratio',\n",
    "]).set_index('Year')\n",
    "\n",
    "s = df.style\n",
    "s.format({'Big Tasks Points Ratio': '{:,.1%}'.format})\n",
    "s = s.background_gradient(subset=[\n",
    "    'Total Points',\n",
    "    'Small Tasks Points',\n",
    "    'Big Tasks Points',\n",
    "    'Big Tasks Points Ratio',\n",
    "], cmap=sns.light_palette('orange', as_cmap=True))"
   ]
  },
  {
   "cell_type": "markdown",
   "metadata": {},
   "source": [
    "### Počet bodů za velké/malé úlohy napříč ročníky\n",
    "Jen data z předchozího grafu v tabulce."
   ]
  },
  {
   "cell_type": "code",
   "execution_count": null,
   "metadata": {},
   "outputs": [],
   "source": [
    "display(s)"
   ]
  },
  {
   "cell_type": "code",
   "execution_count": null,
   "metadata": {},
   "outputs": [],
   "source": [
    "YearData = namedtuple('YearData', [\n",
    "    'Year', 'tasks_count', 'small_tasks_count', 'big_tasks_count',\n",
    "    'big_tasks_ratio'\n",
    "])\n",
    "\n",
    "year_data = [\n",
    "    YearData(\n",
    "        year,\n",
    "        tasks_per_year_dict[year].count,\n",
    "        small_tasks_per_year_dict[year].count,\n",
    "        big_tasks_per_year_dict[year].count,\n",
    "        big_tasks_per_year_dict[year].count / tasks_per_year_dict[year].count,\n",
    "    )\n",
    "    for year in tasks_per_year_dict.keys()\n",
    "]\n",
    "year_data.sort(key=lambda yd: yd.Year.id)"
   ]
  },
  {
   "cell_type": "code",
   "execution_count": null,
   "metadata": {},
   "outputs": [],
   "source": [
    "df = pd.DataFrame(year_data, columns=[\n",
    "    'Year',\n",
    "    'Tasks Count',\n",
    "    'Small Tasks Count',\n",
    "    'Big Tasks Count',\n",
    "    'Big Tasks Percentage',\n",
    "]).set_index('Year')\n",
    "\n",
    "s = df.style\n",
    "s.format({'Big Tasks Percentage': '{:,.1%}'.format})\n",
    "s = s.background_gradient(subset=[\n",
    "    'Tasks Count',\n",
    "    'Small Tasks Count',\n",
    "    'Big Tasks Count',\n",
    "    'Big Tasks Percentage',\n",
    "], cmap=sns.light_palette('orange', as_cmap=True))"
   ]
  },
  {
   "cell_type": "markdown",
   "metadata": {},
   "source": [
    "### Počet úloh napříč ročníky"
   ]
  },
  {
   "cell_type": "code",
   "execution_count": null,
   "metadata": {},
   "outputs": [],
   "source": [
    "display(s)"
   ]
  },
  {
   "cell_type": "code",
   "execution_count": null,
   "metadata": {},
   "outputs": [],
   "source": []
  }
 ],
 "metadata": {
  "hide_input": false,
  "kernelspec": {
   "display_name": "Python 3",
   "language": "python",
   "name": "python3"
  },
  "language_info": {
   "codemirror_mode": {
    "name": "ipython",
    "version": 3
   },
   "file_extension": ".py",
   "mimetype": "text/x-python",
   "name": "python",
   "nbconvert_exporter": "python",
   "pygments_lexer": "ipython3",
   "version": "3.6.14"
  }
 },
 "nbformat": 4,
 "nbformat_minor": 2
}
