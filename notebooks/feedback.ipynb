{
 "cells": [
  {
   "cell_type": "markdown",
   "metadata": {},
   "source": [
    "# KSI monitoring: zpětná vazba na úlohy\n",
    "V tomto souboru se nachází statistika kvantitativní zpětné vazby řešitelů ke konkrétním úlohám."
   ]
  },
  {
   "cell_type": "code",
   "execution_count": 1,
   "metadata": {},
   "outputs": [],
   "source": [
    "%config InlineBackend.figure_formats = ['svg']\n",
    "%matplotlib inline\n",
    "%load_ext autoreload\n",
    "%autoreload 2"
   ]
  },
  {
   "cell_type": "code",
   "execution_count": 2,
   "metadata": {},
   "outputs": [
    {
     "name": "stdout",
     "output_type": "stream",
     "text": [
      "2019-08-02 19:23:32.471806\n"
     ]
    }
   ],
   "source": [
    "import sys\n",
    "sys.path.append('..')\n",
    "\n",
    "import matplotlib.pyplot as plt\n",
    "from collections import OrderedDict, namedtuple\n",
    "from sqlalchemy import func, distinct, text, and_\n",
    "import pandas as pd\n",
    "from IPython.display import display, HTML, Markdown\n",
    "import seaborn as sns\n",
    "\n",
    "import util\n",
    "from util.year import year as current_year\n",
    "from db import session\n",
    "import model\n",
    "from datetime import datetime\n",
    "import json\n",
    "\n",
    "pd.options.display.float_format = '{:.2f}'.format\n",
    "plt.rcParams['figure.figsize'] = [8, 6]\n",
    "print(datetime.now())"
   ]
  },
  {
   "cell_type": "code",
   "execution_count": 3,
   "metadata": {},
   "outputs": [],
   "source": [
    "all_waves = session.query(model.Wave).\\\n",
    "    filter(model.Wave.year == current_year.id).\\\n",
    "    order_by(model.Wave.index).all()"
   ]
  },
  {
   "cell_type": "code",
   "execution_count": 4,
   "metadata": {
    "scrolled": false
   },
   "outputs": [],
   "source": [
    "Feedback = namedtuple(\n",
    "    'Feedback',\n",
    "    ['user', 'task', 'explained', 'interesting', 'difficult']\n",
    ")\n",
    "\n",
    "feedbacks_raw = session.query(\n",
    "    model.Feedback,\n",
    "    model.Task,\n",
    ").\\\n",
    "    join(model.Feedback.r_task).\\\n",
    "    join(model.Task.r_wave).filter(model.Wave.year == current_year.id).\\\n",
    "    join(model.Feedback.r_user).\\\n",
    "    filter(model.User.role == 'participant').\\\n",
    "    order_by(model.Task.id).all()\n",
    "\n",
    "feedbacks = []\n",
    "for f, task in feedbacks_raw:\n",
    "    data = {\n",
    "        item['id']: item['answer']\n",
    "        for item in json.loads(f.content)\n",
    "    }\n",
    "    feedbacks.append(Feedback(\n",
    "        f.user,\n",
    "        task,\n",
    "        data['explained'] if 'explained' in data else None,\n",
    "        data['interesting'] if 'interesting' in data else None,\n",
    "        data['difficult'] if 'difficult' in data else None,\n",
    "    ))"
   ]
  },
  {
   "cell_type": "code",
   "execution_count": 5,
   "metadata": {},
   "outputs": [],
   "source": [
    "large_tasks = util.task.large_tasks().all()"
   ]
  },
  {
   "cell_type": "code",
   "execution_count": 8,
   "metadata": {
    "scrolled": false
   },
   "outputs": [],
   "source": [
    "def show_wave_feedbacks(wave, max_feedbacks_count):\n",
    "    feedbacks_in_wave = [ \n",
    "        f\n",
    "        for f in feedbacks\n",
    "        if f.task.wave == wave.id\n",
    "    ]\n",
    "    feedbacks_in_wave.sort(\n",
    "        key=lambda x: (x.task in large_tasks, x.task.id)\n",
    "    )\n",
    "    \n",
    "    df = pd.DataFrame(feedbacks_in_wave)\n",
    "    if df.empty:\n",
    "        return\n",
    "    \n",
    "    grouped = df.groupby('task')\n",
    "    per_task = pd.DataFrame(OrderedDict((\n",
    "        ('Explained Count', grouped.explained.count()),\n",
    "        ('Interesting Count', grouped.interesting.count()),\n",
    "        ('Difficult Count', grouped.difficult.count()),\n",
    "        ('Explained Mean', grouped.explained.mean()),    \n",
    "        ('Interesting Mean', grouped.interesting.mean()),    \n",
    "        ('Difficult Mean', grouped.difficult.mean()),\n",
    "    )))\n",
    "    \n",
    "    s = per_task.style\n",
    "\n",
    "    s.format({\n",
    "        'Explained Mean': '{:.2f}'.format,\n",
    "        'Interesting Mean': '{:.2f}'.format,\n",
    "        'Difficult Mean': '{:.2f}'.format,\n",
    "    })\n",
    "    \n",
    "    s.bar(subset=[\n",
    "        'Explained Count', 'Interesting Count', 'Difficult Count'\n",
    "    ], color='#5fd65f', vmin=0, vmax=max_feedbacks_count)\n",
    "    \n",
    "    s.background_gradient(subset=[\n",
    "        'Explained Mean',\n",
    "        'Interesting Mean',\n",
    "    ], cmap=sns.light_palette(\"green\", as_cmap=True))\n",
    "    \n",
    "    s.background_gradient(subset=[\n",
    "        'Difficult Mean',\n",
    "    ], cmap=sns.light_palette(\"red\", as_cmap=True))    \n",
    "    \n",
    "    display(Markdown('## {name}'.format(name=wave.caption)))\n",
    "    display(s)\n",
    "\n",
    "counts = {}\n",
    "for feedback in feedbacks:\n",
    "    counts[feedback.task] = counts.get(feedback.task, 0) + 1\n",
    "\n",
    "max_feedbacks_count = max(counts.values(), default=100)\n",
    "\n",
    "for wave in all_waves:\n",
    "    show_wave_feedbacks(wave, max_feedbacks_count)"
   ]
  },
  {
   "cell_type": "code",
   "execution_count": null,
   "metadata": {},
   "outputs": [],
   "source": []
  }
 ],
 "metadata": {
  "hide_input": false,
  "kernelspec": {
   "display_name": "Python 3",
   "language": "python",
   "name": "python3"
  },
  "language_info": {
   "codemirror_mode": {
    "name": "ipython",
    "version": 3
   },
   "file_extension": ".py",
   "mimetype": "text/x-python",
   "name": "python",
   "nbconvert_exporter": "python",
   "pygments_lexer": "ipython3",
   "version": "3.7.3"
  }
 },
 "nbformat": 4,
 "nbformat_minor": 2
}
