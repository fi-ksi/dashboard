{
 "cells": [
  {
   "cell_type": "markdown",
   "metadata": {},
   "source": [
    "# KSI monitoring: vlny\n",
    "V tomto souboru jsou data relevantní k jednotlivým vlnám. Typicky se generují pouze pro vlny v aktuálním ročníku."
   ]
  },
  {
   "cell_type": "code",
   "execution_count": null,
   "metadata": {},
   "outputs": [],
   "source": [
    "%config InlineBackend.figure_formats = ['svg']\n",
    "%matplotlib inline\n",
    "%load_ext autoreload\n",
    "%autoreload 2"
   ]
  },
  {
   "cell_type": "code",
   "execution_count": null,
   "metadata": {},
   "outputs": [],
   "source": [
    "import sys\n",
    "sys.path.append('..')\n",
    "\n",
    "import matplotlib.pyplot as plt\n",
    "from collections import OrderedDict, namedtuple\n",
    "from sqlalchemy import func, distinct, text, and_, or_\n",
    "import pandas as pd\n",
    "\n",
    "import util\n",
    "from util.year import year as current_year\n",
    "from db import session\n",
    "import model\n",
    "from datetime import datetime\n",
    "\n",
    "plt.rcParams['figure.figsize'] = [8, 6]\n",
    "print(datetime.now())"
   ]
  },
  {
   "cell_type": "code",
   "execution_count": null,
   "metadata": {},
   "outputs": [],
   "source": [
    "per_wave = session.query(model.Wave,\n",
    "                         func.count(distinct(model.User.id))).\\\n",
    "    join(model.Wave.tasks).join(model.Task.modules).\\\n",
    "    outerjoin(model.Module.submitters).\\\n",
    "    filter(or_(model.User.role == 'participant', model.Module.submitters == None)).\\\n",
    "    filter(model.Wave.year == current_year.id).\\\n",
    "    group_by(model.Wave).order_by(model.Wave.index).all()\n",
    "\n",
    "df = pd.DataFrame(per_wave, columns=['Wave', 'Participants Count']).set_index('Wave')\n",
    "df.plot.bar();"
   ]
  },
  {
   "cell_type": "code",
   "execution_count": null,
   "metadata": {},
   "outputs": [],
   "source": [
    "per_wave = list(filter(lambda w: w[0].index > 0, per_wave))\n",
    "\n",
    "if per_wave:  # handle empty year without crashing\n",
    "    df = pd.DataFrame(per_wave, columns=['Wave', 'Participants Count']).set_index('Wave')\n",
    "    df.plot.bar();"
   ]
  },
  {
   "cell_type": "code",
   "execution_count": null,
   "metadata": {},
   "outputs": [],
   "source": []
  }
 ],
 "metadata": {
  "hide_input": false,
  "kernelspec": {
   "display_name": "Python 3",
   "language": "python",
   "name": "python3"
  },
  "language_info": {
   "codemirror_mode": {
    "name": "ipython",
    "version": 3
   },
   "file_extension": ".py",
   "mimetype": "text/x-python",
   "name": "python",
   "nbconvert_exporter": "python",
   "pygments_lexer": "ipython3",
   "version": "3.6.14"
  }
 },
 "nbformat": 4,
 "nbformat_minor": 2
}
