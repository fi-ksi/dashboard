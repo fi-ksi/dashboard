{
 "cells": [
  {
   "cell_type": "code",
   "execution_count": 1,
   "metadata": {},
   "outputs": [],
   "source": [
    "%matplotlib inline\n",
    "%load_ext autoreload\n",
    "%autoreload 2"
   ]
  },
  {
   "cell_type": "code",
   "execution_count": 2,
   "metadata": {},
   "outputs": [],
   "source": [
    "import sys\n",
    "sys.path.append('..')\n",
    "\n",
    "import matplotlib.pyplot as plt\n",
    "from collections import OrderedDict, namedtuple\n",
    "from sqlalchemy import func, distinct, text, and_\n",
    "import pandas as pd\n",
    "\n",
    "import util\n",
    "from util.year import year\n",
    "from db import session\n",
    "import model"
   ]
  },
  {
   "cell_type": "code",
   "execution_count": 3,
   "metadata": {
    "scrolled": true
   },
   "outputs": [
    {
     "data": {
      "text/plain": [
       "<matplotlib.axes._subplots.AxesSubplot at 0x7f97135fdc50>"
      ]
     },
     "execution_count": 3,
     "metadata": {},
     "output_type": "execute_result"
    },
    {
     "data": {
      "image/png": "[encoded data removed]",
      "text/plain": [
       "<Figure size 432x288 with 1 Axes>"
      ]
     },
     "metadata": {
      "needs_background": "light"
     },
     "output_type": "display_data"
    }
   ],
   "source": [
    "per_module = util.task.points_per_module_all_years().subquery()\n",
    "\n",
    "per_user = session.query(\n",
    "    model.Year,\n",
    "    model.User,\n",
    "    func.sum(per_module.c.points).label(\"total_score\"),\n",
    ").\\\n",
    "    join(per_module, model.Year.id == per_module.c.year_id).\\\n",
    "    join(model.User, model.User.id == per_module.c.user_id).\\\n",
    "    filter(model.User.role == 'participant').\\\n",
    "    group_by('year_id', model.User).all()\n",
    "\n",
    "df = pd.DataFrame(per_user).groupby('Year')\n",
    "fdf = pd.DataFrame(per_user)\n",
    "fdf = fdf[fdf['total_score'] > 0].groupby('Year')\n",
    "\n",
    "per_year = pd.DataFrame(OrderedDict(\n",
    "    solved_count=df.total_score.count(),\n",
    "    solved_more_than_0_poins_count=fdf.total_score.count(),\n",
    "))\n",
    "\n",
    "per_year.plot.bar()"
   ]
  },
  {
   "cell_type": "code",
   "execution_count": 4,
   "metadata": {},
   "outputs": [
    {
     "ename": "SyntaxError",
     "evalue": "unexpected EOF while parsing (<ipython-input-4-195ef5ec72c4>, line 10)",
     "output_type": "error",
     "traceback": [
      "\u001b[0;36m  File \u001b[0;32m\"<ipython-input-4-195ef5ec72c4>\"\u001b[0;36m, line \u001b[0;32m10\u001b[0m\n\u001b[0;31m    fdf = pd.DataFrame(relative\u001b[0m\n\u001b[0m                               ^\u001b[0m\n\u001b[0;31mSyntaxError\u001b[0m\u001b[0;31m:\u001b[0m unexpected EOF while parsing\n"
     ]
    }
   ],
   "source": [
    "max_points_per_year = util.task.max_points_per_year(bonus=False)\n",
    "\n",
    "Score = namedtuple('Score', ['Year', 'User', 'RelativePoints'])\n",
    "relative_per_user = [\n",
    "    Score(year, user, score / max_points_per_year[year.id][0])\n",
    "    for year, user, score in per_user\n",
    "]\n",
    "\n",
    "rdf = pd.DataFrame(relative_per_user).groupby('Year')\n",
    "fdf = pd.DataFrame(relative"
   ]
  },
  {
   "cell_type": "code",
   "execution_count": 26,
   "metadata": {},
   "outputs": [
    {
     "data": {
      "text/plain": [
       "<matplotlib.axes._subplots.AxesSubplot at 0x7f9710c4a470>"
      ]
     },
     "execution_count": 26,
     "metadata": {},
     "output_type": "execute_result"
    },
    {
     "data": {
      "image/png": "[encoded data removed]",
      "text/plain": [
       "<Figure size 432x288 with 1 Axes>"
      ]
     },
     "metadata": {
      "needs_background": "light"
     },
     "output_type": "display_data"
    }
   ],
   "source": [
    "max_points_per_year = util.task.max_points_per_year(bonus=False)\n",
    "\n",
    "Score = namedtuple('Score', ['Year', 'User', 'RelativePoints'])\n",
    "relative_per_user = [\n",
    "    Score(year, user, score / max_points_per_year[year.id][0])\n",
    "    for year, user, score in per_user\n",
    "]\n",
    "\n",
    "#rdf = pd.DataFrame(relative_per_user).groupby('Year')\n",
    "fdf = pd.DataFrame(relative_per_user)\n",
    "fdf = fdf[fdf['RelativePoints'] > 0] # filter 0 score\n",
    "\n",
    "relative_per_year = pd.DataFrame(OrderedDict((\n",
    "    ('0-10', fdf[(fdf['RelativePoints'] >= 0) & (fdf['RelativePoints'] < 0.1)].groupby('Year').RelativePoints.count()),\n",
    "    ('10-20', fdf[(fdf['RelativePoints'] >= 0.1) & (fdf['RelativePoints'] < 0.2)].groupby('Year').RelativePoints.count()),\n",
    "    ('20-50', fdf[(fdf['RelativePoints'] >= 0.2) & (fdf['RelativePoints'] < 0.5)].groupby('Year').RelativePoints.count()),\n",
    "    ('60-80', fdf[(fdf['RelativePoints'] >= 0.5) & (fdf['RelativePoints'] < 0.8)].groupby('Year').RelativePoints.count()),\n",
    "    ('80-100', fdf[fdf['RelativePoints'] >= 0.8].groupby('Year').RelativePoints.count()),\n",
    ")))\n",
    "relative_per_year.plot.bar(stacked=True)"
   ]
  },
  {
   "cell_type": "code",
   "execution_count": null,
   "metadata": {},
   "outputs": [],
   "source": []
  }
 ],
 "metadata": {
  "kernelspec": {
   "display_name": "Python 3",
   "language": "python",
   "name": "python3"
  },
  "language_info": {
   "codemirror_mode": {
    "name": "ipython",
    "version": 3
   },
   "file_extension": ".py",
   "mimetype": "text/x-python",
   "name": "python",
   "nbconvert_exporter": "python",
   "pygments_lexer": "ipython3",
   "version": "3.5.3"
  }
 },
 "nbformat": 4,
 "nbformat_minor": 2
}
