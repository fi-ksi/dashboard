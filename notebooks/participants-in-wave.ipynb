{
 "cells": [
  {
   "cell_type": "code",
   "execution_count": 1,
   "metadata": {},
   "outputs": [],
   "source": [
    "%load_ext autoreload\n",
    "%autoreload 2"
   ]
  },
  {
   "cell_type": "code",
   "execution_count": 34,
   "metadata": {},
   "outputs": [
    {
     "data": {
      "text/plain": [
       "'2018/2019'"
      ]
     },
     "execution_count": 34,
     "metadata": {},
     "output_type": "execute_result"
    }
   ],
   "source": [
    "import sys\n",
    "sys.path.append('..')\n",
    "\n",
    "from sqlalchemy import func, distinct, text, and_\n",
    "\n",
    "from util.year import year\n",
    "from db import session\n",
    "import model\n",
    "year.year"
   ]
  },
  {
   "cell_type": "code",
   "execution_count": 3,
   "metadata": {},
   "outputs": [
    {
     "name": "stdout",
     "output_type": "stream",
     "text": [
      "2015/2016 218\n",
      "2016/2017 404\n",
      "2017/2018 557\n",
      "2018/2019 755\n"
     ]
    }
   ],
   "source": [
    "users = session.query(model.Year,\n",
    "                      func.count(distinct(model.User.id))).\\\n",
    "    join(model.Year.tasks).join(model.Task.modules).\\\n",
    "    join(model.Module.submitters).\\\n",
    "    filter(model.User.role == 'participant').\\\n",
    "    group_by(model.Year).all()\n",
    "\n",
    "for year, points in users:\n",
    "    print(year.year, points)"
   ]
  },
  {
   "cell_type": "code",
   "execution_count": 38,
   "metadata": {
    "scrolled": false
   },
   "outputs": [
    {
     "name": "stdout",
     "output_type": "stream",
     "text": [
      "2015/2016 193\n",
      "2016/2017 125\n",
      "2017/2018 314\n",
      "2018/2019 391\n"
     ]
    }
   ],
   "source": [
    "per_module = session.query(\n",
    "    model.Wave.year.label('year_id'),\n",
    "    model.Evaluation.user.label('user'),\n",
    "    func.max(model.Evaluation.points).label('points'),\n",
    "    func.max(model.Evaluation.cheat).label('cheat'),\n",
    ").\\\n",
    "    join(model.Evaluation.r_module).\\\n",
    "    join(model.Module.r_task).\\\n",
    "    join(model.Task.r_wave).\\\n",
    "    group_by(model.Wave.year, model.Evaluation.user,\n",
    "             model.Evaluation.module).subquery()\n",
    "\n",
    "per_user = session.query(\n",
    "    per_module.c.year_id.label('year_id'),\n",
    "    per_module.c.user.label('user_id'),\n",
    "    func.sum(per_module.c.points).label(\"total_score\"),\n",
    ").\\\n",
    "    having(text('total_score > 0')).\\\n",
    "    group_by('year_id', per_module.c.user).subquery()\n",
    "\n",
    "users = session.query(\n",
    "    model.Year,\n",
    "    func.count(distinct(model.User.id)),\n",
    ").\\\n",
    "    join(model.Year.tasks).join(model.Task.modules).\\\n",
    "    join(model.Module.submitters).\\\n",
    "    filter(model.User.role == 'participant').\\\n",
    "    join(per_user, and_(model.User.id == per_user.c.user_id,\n",
    "                        model.Year.id == per_user.c.year_id)).\\\n",
    "    group_by(model.Year).all()\n",
    "\n",
    "for year, points in users:\n",
    "    print(year.year, points)"
   ]
  }
 ],
 "metadata": {
  "kernelspec": {
   "display_name": "Python 3",
   "language": "python",
   "name": "python3"
  },
  "language_info": {
   "codemirror_mode": {
    "name": "ipython",
    "version": 3
   },
   "file_extension": ".py",
   "mimetype": "text/x-python",
   "name": "python",
   "nbconvert_exporter": "python",
   "pygments_lexer": "ipython3",
   "version": "3.5.3"
  }
 },
 "nbformat": 4,
 "nbformat_minor": 2
}
