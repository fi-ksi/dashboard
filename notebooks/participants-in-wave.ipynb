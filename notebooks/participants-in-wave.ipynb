{
 "cells": [
  {
   "cell_type": "code",
   "execution_count": 1,
   "metadata": {},
   "outputs": [],
   "source": [
    "%load_ext autoreload\n",
    "%autoreload 2"
   ]
  },
  {
   "cell_type": "code",
   "execution_count": 2,
   "metadata": {},
   "outputs": [],
   "source": [
    "import sys\n",
    "sys.path.append('..')\n",
    "\n",
    "import matplotlib.pyplot as plt\n",
    "from collections import OrderedDict\n",
    "from sqlalchemy import func, distinct, text, and_\n",
    "import pandas as pd\n",
    "\n",
    "import util\n",
    "from util.year import year\n",
    "from db import session\n",
    "import model"
   ]
  },
  {
   "cell_type": "code",
   "execution_count": 3,
   "metadata": {},
   "outputs": [
    {
     "name": "stdout",
     "output_type": "stream",
     "text": [
      "2015/2016 218\n",
      "2016/2017 404\n",
      "2017/2018 557\n",
      "2018/2019 755\n"
     ]
    }
   ],
   "source": [
    "users = session.query(model.Year,\n",
    "                      func.count(distinct(model.User.id))).\\\n",
    "    join(model.Year.tasks).join(model.Task.modules).\\\n",
    "    join(model.Module.submitters).\\\n",
    "    filter(model.User.role == 'participant').\\\n",
    "    group_by(model.Year).all()\n",
    "\n",
    "for year, points in users:\n",
    "    print(year.year, points)"
   ]
  },
  {
   "cell_type": "code",
   "execution_count": 4,
   "metadata": {
    "scrolled": false
   },
   "outputs": [
    {
     "data": {
      "text/plain": [
       "<matplotlib.axes._subplots.AxesSubplot at 0x7f5a4036b5f8>"
      ]
     },
     "execution_count": 4,
     "metadata": {},
     "output_type": "execute_result"
    },
    {
     "data": {
      "image/png": "[encoded data removed]",
      "text/plain": [
       "<Figure size 432x288 with 1 Axes>"
      ]
     },
     "metadata": {
      "needs_background": "light"
     },
     "output_type": "display_data"
    }
   ],
   "source": [
    "per_module = util.task.points_per_module_all_years().subquery()\n",
    "\n",
    "per_user = session.query(\n",
    "    model.Year,\n",
    "    model.User,\n",
    "    func.sum(per_module.c.points).label(\"total_score\"),\n",
    ").\\\n",
    "    join(per_module, model.Year.id == per_module.c.year_id).\\\n",
    "    join(model.User, model.User.id == per_module.c.user_id).\\\n",
    "    filter(model.User.role == 'participant').\\\n",
    "    group_by('year_id', model.User).all()\n",
    "\n",
    "df = pd.DataFrame(per_user).groupby('Year')\n",
    "fdf = pd.DataFrame(per_user)\n",
    "fdf = fdf[fdf['total_score'] > 0].groupby('Year')\n",
    "per_year = pd.DataFrame(OrderedDict(\n",
    "    solved_count=df.total_score.count(),\n",
    "    solved_more_than_0_count=fdf.total_score.count(),\n",
    "))\n",
    "\n",
    "per_year.solved_count.plot()"
   ]
  },
  {
   "cell_type": "code",
   "execution_count": null,
   "metadata": {},
   "outputs": [],
   "source": []
  }
 ],
 "metadata": {
  "kernelspec": {
   "display_name": "Python 3",
   "language": "python",
   "name": "python3"
  },
  "language_info": {
   "codemirror_mode": {
    "name": "ipython",
    "version": 3
   },
   "file_extension": ".py",
   "mimetype": "text/x-python",
   "name": "python",
   "nbconvert_exporter": "python",
   "pygments_lexer": "ipython3",
   "version": "3.5.3"
  }
 },
 "nbformat": 4,
 "nbformat_minor": 2
}
