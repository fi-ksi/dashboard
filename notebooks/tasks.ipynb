{
 "cells": [
  {
   "cell_type": "code",
   "execution_count": 1,
   "metadata": {},
   "outputs": [],
   "source": [
    "%matplotlib inline\n",
    "%load_ext autoreload\n",
    "%autoreload 2"
   ]
  },
  {
   "cell_type": "code",
   "execution_count": 2,
   "metadata": {},
   "outputs": [],
   "source": [
    "import sys\n",
    "sys.path.append('..')\n",
    "\n",
    "import matplotlib.pyplot as plt\n",
    "from collections import OrderedDict, namedtuple\n",
    "from sqlalchemy import func, distinct, text, and_\n",
    "import pandas as pd\n",
    "\n",
    "import util\n",
    "from util.year import year as current_year\n",
    "from db import session\n",
    "import model"
   ]
  },
  {
   "cell_type": "code",
   "execution_count": 18,
   "metadata": {},
   "outputs": [
    {
     "data": {
      "text/plain": [
       "[(Hrubá síla, Variace s opakováním, 234),\n",
       " (Hrubá síla, Variace bez opakování, 198),\n",
       " (Hrubá síla, Generování podmnožin, 181),\n",
       " (Hrubá síla, Backtracking, 148),\n",
       " (Hrubá síla, Problém osmi dam, 102)]"
      ]
     },
     "execution_count": 18,
     "metadata": {},
     "output_type": "execute_result"
    }
   ],
   "source": [
    "evaluations = session.query(\n",
    "    model.Wave,\n",
    "    model.Task,    \n",
    "    func.count(distinct(model.User.id))\n",
    ").\\\n",
    "    join(model.Task.r_wave).filter(model.Wave.year == current_year.id).\\\n",
    "    join(model.Task.modules).\\\n",
    "    join(model.Module.evaluations).\\\n",
    "    join(model.Evaluation.r_user)\n",
    "\n",
    "evaluations_per_task = evaluations.\\\n",
    "    group_by(model.Task).order_by(model.Wave.id, model.Task.id)\n",
    "\n",
    "evaluations_per_task[20:25]"
   ]
  },
  {
   "cell_type": "code",
   "execution_count": 19,
   "metadata": {},
   "outputs": [
    {
     "data": {
      "text/plain": [
       "[(Hrubá síla, Variace s opakováním, 233),\n",
       " (Hrubá síla, Variace bez opakování, 195),\n",
       " (Hrubá síla, Generování podmnožin, 176),\n",
       " (Hrubá síla, Backtracking, 145),\n",
       " (Hrubá síla, Problém osmi dam, 98)]"
      ]
     },
     "execution_count": 19,
     "metadata": {},
     "output_type": "execute_result"
    }
   ],
   "source": [
    "successful_evaluations = evaluations_per_task.\\\n",
    "    filter(model.Evaluation.ok == True)\n",
    "\n",
    "successful_evaluations[20:25]"
   ]
  },
  {
   "cell_type": "code",
   "execution_count": 20,
   "metadata": {},
   "outputs": [
    {
     "name": "stdout",
     "output_type": "stream",
     "text": [
      "10 [(Nultá vlna, Prostorová složitost, 67), (Nultá vlna, Pokročilí plavci, 160), (Nultá vlna, Řazení programů, 261), (Nultá vlna, Analýza četnosti slov, 55), (Nultá vlna, Debugování a testování, 113)]\n",
      "50 [(Nultá vlna, Pokročilí plavci, 11), (Nultá vlna, Řazení programů, 16), (Nultá vlna, Analýza četnosti slov, 5), (Nultá vlna, Debugování a testování, 11), (Nultá vlna, PEP8, 14)]\n",
      "30 [(Nultá vlna, Pokročilí plavci, 40), (Nultá vlna, Řazení programů, 56), (Nultá vlna, Analýza četnosti slov, 17), (Nultá vlna, Debugování a testování, 28), (Nultá vlna, PEP8, 39)]\n"
     ]
    }
   ],
   "source": [
    "per_module = session.query(\n",
    "    model.Evaluation.user.label('user_id'),\n",
    "    func.count(model.Evaluation.id).label('eval_count'),\n",
    ").\\\n",
    "    join(model.Evaluation.r_module).join(model.Module.r_task).\\\n",
    "    join(model.Task.r_wave).\\\n",
    "    filter(model.Wave.year == current_year.id).\\\n",
    "    group_by(model.Evaluation.user,\n",
    "             model.Evaluation.module).subquery()\n",
    "\n",
    "EVAL_LIMITS = [10, 30, 50]\n",
    "problematic_tasks = {\n",
    "    limit: evaluations.\n",
    "            filter(model.Evaluation.ok == False).\n",
    "            join(per_module, per_module.c.user_id == model.User.id).\\\n",
    "            group_by(model.Task).\\\n",
    "            filter(per_module.c.eval_count > limit)\n",
    "    for limit in EVAL_LIMITS\n",
    "}\n",
    "\n",
    "for limit, users in problematic_tasks.items():\n",
    "    print(limit, users.all()[20:25])"
   ]
  }
 ],
 "metadata": {
  "kernelspec": {
   "display_name": "Python 3",
   "language": "python",
   "name": "python3"
  },
  "language_info": {
   "codemirror_mode": {
    "name": "ipython",
    "version": 3
   },
   "file_extension": ".py",
   "mimetype": "text/x-python",
   "name": "python",
   "nbconvert_exporter": "python",
   "pygments_lexer": "ipython3",
   "version": "3.5.3"
  }
 },
 "nbformat": 4,
 "nbformat_minor": 2
}
